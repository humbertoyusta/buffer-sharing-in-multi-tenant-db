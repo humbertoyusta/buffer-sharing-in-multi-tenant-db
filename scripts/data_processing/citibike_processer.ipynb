{
 "cells": [
  {
   "cell_type": "markdown",
   "metadata": {},
   "source": [
    "##### Imports\n"
   ]
  },
  {
   "cell_type": "code",
   "execution_count": 1,
   "metadata": {},
   "outputs": [],
   "source": [
    "import pandas as pd\n",
    "import numpy as np\n",
    "import matplotlib.pyplot as plt\n",
    "import zipfile\n",
    "from importlib import reload\n",
    "import sys"
   ]
  },
  {
   "cell_type": "markdown",
   "metadata": {},
   "source": [
    "##### Download data\n"
   ]
  },
  {
   "cell_type": "code",
   "execution_count": 2,
   "metadata": {},
   "outputs": [
    {
     "name": "stdout",
     "output_type": "stream",
     "text": [
      "Downloading...\n",
      "From (original): https://drive.google.com/uc?id=1bGchkm9ilJllheYPbSttuScrcy5_gYLd\n",
      "From (redirected): https://drive.google.com/uc?id=1bGchkm9ilJllheYPbSttuScrcy5_gYLd&confirm=t&uuid=caa5b04b-4546-4c91-be94-edd39791df28\n",
      "To: /Users/humbertoyusta/classes/buffer-sharing-in-multi-tenant-db/data/2023-citibike-tripdata.zip\n",
      "100%|████████████████████████████████████████| 465M/465M [01:41<00:00, 4.57MB/s]\n"
     ]
    }
   ],
   "source": [
    "!gdown \"https://drive.google.com/uc?id=1bGchkm9ilJllheYPbSttuScrcy5_gYLd\" -O ../../data/2023-citibike-tripdata.zip"
   ]
  },
  {
   "cell_type": "markdown",
   "metadata": {},
   "source": [
    "##### Extracting data\n"
   ]
  },
  {
   "cell_type": "code",
   "execution_count": 4,
   "metadata": {},
   "outputs": [],
   "source": [
    "zip_path = \"../../data/2023-citibike-tripdata.zip\"\n",
    "output_path = \"../../data/\"\n",
    "\n",
    "with zipfile.ZipFile(zip_path, \"r\") as zip_ref:\n",
    "    zip_ref.extractall(output_path)"
   ]
  },
  {
   "cell_type": "markdown",
   "metadata": {},
   "source": [
    "##### File names of data files\n",
    "\n",
    "There is one file per month.\n"
   ]
  },
  {
   "cell_type": "code",
   "execution_count": 2,
   "metadata": {},
   "outputs": [],
   "source": [
    "FILE_NAMES = [\n",
    "    \"202301-citibike-tripdata.csv\",\n",
    "    \"202302-citibike-tripdata.csv\",\n",
    "    \"202303-citibike-tripdata.csv\",\n",
    "    \"202304-citibike-tripdata.csv\",\n",
    "    \"202305-citibike-tripdata.csv\",\n",
    "    \"202306-citibike-tripdata.csv\",\n",
    "    \"202307-citibike-tripdata.csv\",\n",
    "    \"202308-citibike-tripdata.csv\",\n",
    "    \"202309-citibike-tripdata.csv\",\n",
    "    \"202310-citibike-tripdata.csv\",\n",
    "    \"202311-citibike-tripdata.csv\",\n",
    "    \"202312-citibike-tripdata.csv\",\n",
    "]"
   ]
  },
  {
   "cell_type": "markdown",
   "metadata": {},
   "source": [
    "#### First experiment test selection\n",
    "\n",
    "Tenants are chosen based on if the bike was classic or electric, and if it was casual or usual member (therefore 4 tenants)\n",
    "\n",
    "Page ids are chosen based on tuple (start_station_id, end_station_id)\n"
   ]
  },
  {
   "cell_type": "code",
   "execution_count": 69,
   "metadata": {},
   "outputs": [],
   "source": [
    "file_names = FILE_NAMES[0:4]\n",
    "\n",
    "for index, file_name in enumerate(file_names):\n",
    "    df = pd.read_csv(\n",
    "        output_path + \"2023-citibike-tripdata/\" + file_name,\n",
    "        dtype={\"start_station_id\": str, \"end_station_id\": str},\n",
    "    )\n",
    "\n",
    "    df.dropna(subset=[\"start_station_id\", \"end_station_id\"], inplace=True)\n",
    "\n",
    "    df.sort_values(by=\"started_at\", inplace=True)\n",
    "\n",
    "    df = df[df[\"rideable_type\"] != \"docked_bike\"]\n",
    "\n",
    "    df[\"tenant_id\"] = (\n",
    "        (df[\"rideable_type\"].rank(method=\"dense\") - 1) * df[\"member_casual\"].nunique()\n",
    "        + (df[\"member_casual\"].rank(method=\"dense\") - 1)\n",
    "    ).astype(int) + 1\n",
    "\n",
    "    df[\"stations_id_concat\"] = df[\"start_station_id\"] + \"_\" + df[\"end_station_id\"]\n",
    "\n",
    "    df[\"page_id\"] = (\n",
    "        df.groupby(\"tenant_id\")[\"stations_id_concat\"].rank(method=\"dense\").astype(int)\n",
    "    )\n",
    "\n",
    "    selected_df = df[\n",
    "        [\n",
    "            \"tenant_id\",\n",
    "            \"page_id\",\n",
    "        ]\n",
    "    ]\n",
    "\n",
    "    selected_df.to_csv(\n",
    "        output_path + f\"citibike_exp_1_case_{index + 1}.csv\",\n",
    "        index=False,\n",
    "    )"
   ]
  },
  {
   "cell_type": "markdown",
   "metadata": {},
   "source": [
    "#### Second experiment test selection\n",
    "\n",
    "Tenants are chosen based on if the bike was classic or electric, and if it was casual or usual member (therefore 4 tenants)\n",
    "\n",
    "Page ids are chosen based on tuple (rank(start_station_id) // 5, rank(end_station_id) // 5)\n",
    "\n",
    "Division by 5 is added to reduce total number of different pages per tenant.\n"
   ]
  },
  {
   "cell_type": "code",
   "execution_count": 7,
   "metadata": {},
   "outputs": [],
   "source": [
    "file_names = FILE_NAMES[4:8]\n",
    "\n",
    "for index, file_name in enumerate(file_names):\n",
    "    df = pd.read_csv(\n",
    "        output_path + \"2023-citibike-tripdata/\" + file_name,\n",
    "        dtype={\"start_station_id\": str, \"end_station_id\": str},\n",
    "    )\n",
    "\n",
    "    df.dropna(subset=[\"start_station_id\", \"end_station_id\"], inplace=True)\n",
    "\n",
    "    df.sort_values(by=\"started_at\", inplace=True)\n",
    "\n",
    "    df = df[df[\"rideable_type\"] != \"docked_bike\"]\n",
    "\n",
    "    df[\"tenant_id\"] = (\n",
    "        (df[\"rideable_type\"].rank(method=\"dense\") - 1) * df[\"member_casual\"].nunique()\n",
    "        + (df[\"member_casual\"].rank(method=\"dense\") - 1)\n",
    "    ).astype(int) + 1\n",
    "\n",
    "    df[\"start_station_id_number\"] = (\n",
    "        df[\"start_station_id\"].rank(method=\"dense\").astype(int) // 5\n",
    "    )\n",
    "    df[\"end_station_id_number\"] = (\n",
    "        df[\"end_station_id\"].rank(method=\"dense\").astype(int) // 5\n",
    "    )\n",
    "\n",
    "    df[\"stations_id_concat\"] = (\n",
    "        df[\"start_station_id_number\"].astype(str)\n",
    "        + \"_\"\n",
    "        + df[\"end_station_id_number\"].astype(str)\n",
    "    )\n",
    "\n",
    "    df[\"page_id\"] = (\n",
    "        df.groupby(\"tenant_id\")[\"stations_id_concat\"].rank(method=\"dense\").astype(int)\n",
    "    )\n",
    "\n",
    "    selected_df = df[\n",
    "        [\n",
    "            \"tenant_id\",\n",
    "            \"page_id\",\n",
    "        ]\n",
    "    ]\n",
    "\n",
    "    selected_df = selected_df.head(500000).copy()\n",
    "\n",
    "    selected_df[\"page_id\"] = (\n",
    "        selected_df.groupby(\"tenant_id\")[\"page_id\"].rank(method=\"dense\").astype(int)\n",
    "    )\n",
    "\n",
    "    selected_df.to_csv(\n",
    "        output_path + f\"citibike_exp_2_case_{index + 1}.csv\",\n",
    "        index=False,\n",
    "    )"
   ]
  },
  {
   "cell_type": "markdown",
   "metadata": {},
   "source": [
    "#### Third experiment test selection\n",
    "\n",
    "Tenants are chosen based on if the bike was classic or electric, and if it was casual or usual member (therefore 4 tenants)\n",
    "\n",
    "Page ids are chosen based on start station id.\n"
   ]
  },
  {
   "cell_type": "code",
   "execution_count": 8,
   "metadata": {},
   "outputs": [],
   "source": [
    "file_names = FILE_NAMES[8:12]\n",
    "\n",
    "for index, file_name in enumerate(file_names):\n",
    "    df = pd.read_csv(\n",
    "        output_path + \"2023-citibike-tripdata/\" + file_name,\n",
    "        dtype={\"start_station_id\": str, \"end_station_id\": str},\n",
    "    )\n",
    "\n",
    "    df.dropna(subset=[\"start_station_id\", \"end_station_id\"], inplace=True)\n",
    "\n",
    "    df.sort_values(by=\"started_at\", inplace=True)\n",
    "\n",
    "    df = df[df[\"rideable_type\"] != \"docked_bike\"]\n",
    "\n",
    "    df[\"tenant_id\"] = (\n",
    "        (df[\"rideable_type\"].rank(method=\"dense\") - 1) * df[\"member_casual\"].nunique()\n",
    "        + (df[\"member_casual\"].rank(method=\"dense\") - 1)\n",
    "    ).astype(int) + 1\n",
    "\n",
    "    df[\"page_id\"] = (\n",
    "        df.groupby(\"tenant_id\")[\"start_station_id\"].rank(method=\"dense\").astype(int)\n",
    "    )\n",
    "\n",
    "    selected_df = df[\n",
    "        [\n",
    "            \"tenant_id\",\n",
    "            \"page_id\",\n",
    "        ]\n",
    "    ]\n",
    "\n",
    "    selected_df = selected_df.head(50000).copy()\n",
    "\n",
    "    selected_df[\"page_id\"] = (\n",
    "        selected_df.groupby(\"tenant_id\")[\"page_id\"].rank(method=\"dense\").astype(int)\n",
    "    )\n",
    "\n",
    "    selected_df.to_csv(\n",
    "        output_path + f\"citibike_exp_3_case_{index + 1}.csv\",\n",
    "        index=False,\n",
    "    )"
   ]
  }
 ],
 "metadata": {
  "kernelspec": {
   "display_name": "venv",
   "language": "python",
   "name": "python3"
  },
  "language_info": {
   "codemirror_mode": {
    "name": "ipython",
    "version": 3
   },
   "file_extension": ".py",
   "mimetype": "text/x-python",
   "name": "python",
   "nbconvert_exporter": "python",
   "pygments_lexer": "ipython3",
   "version": "3.11.7"
  }
 },
 "nbformat": 4,
 "nbformat_minor": 2
}
